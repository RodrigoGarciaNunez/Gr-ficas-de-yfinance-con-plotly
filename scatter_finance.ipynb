{
 "cells": [
  {
   "cell_type": "code",
   "execution_count": 1,
   "metadata": {},
   "outputs": [
    {
     "name": "stdout",
     "output_type": "stream",
     "text": [
      "                                 Open        High         Low       Close  \\\n",
      "Date                                                                        \n",
      "2024-03-12 00:00:00-04:00  413.210042  422.351430  411.540755  421.298187   \n",
      "2024-03-13 00:00:00-04:00  418.635252  422.358355  417.800609  419.758057   \n",
      "2024-03-14 00:00:00-04:00  421.894374  422.152697  416.339998  417.701263   \n",
      "2024-03-15 00:00:00-04:00  419.767985  421.834747  418.516034  421.834747   \n",
      "2024-03-18 00:00:00-04:00  423.702788  426.668753  422.013609  423.812073   \n",
      "...                               ...         ...         ...         ...   \n",
      "2025-03-05 00:00:00-05:00  456.880005  459.970001  452.940002  459.200012   \n",
      "2025-03-06 00:00:00-05:00  446.000000  452.386993  443.850006  446.700012   \n",
      "2025-03-07 00:00:00-05:00  443.420013  453.029999  443.420013  449.559998   \n",
      "2025-03-10 00:00:00-04:00  451.429993  451.429993  433.470001  437.079987   \n",
      "2025-03-11 00:00:00-04:00  442.239990  444.649994  433.809998  441.250000   \n",
      "\n",
      "                           Volume  Dividends  Stock Splits  \n",
      "Date                                                        \n",
      "2024-03-12 00:00:00-04:00  410100        0.0           0.0  \n",
      "2024-03-13 00:00:00-04:00  162800        0.0           0.0  \n",
      "2024-03-14 00:00:00-04:00  190200        0.0           0.0  \n",
      "2024-03-15 00:00:00-04:00  207800        0.0           0.0  \n",
      "2024-03-18 00:00:00-04:00  220000        0.0           0.0  \n",
      "...                           ...        ...           ...  \n",
      "2025-03-05 00:00:00-05:00  573800        0.0           0.0  \n",
      "2025-03-06 00:00:00-05:00  546900        0.0           0.0  \n",
      "2025-03-07 00:00:00-05:00  443500        0.0           0.0  \n",
      "2025-03-10 00:00:00-04:00  517900        0.0           0.0  \n",
      "2025-03-11 00:00:00-04:00  518799        0.0           0.0  \n",
      "\n",
      "[250 rows x 7 columns]\n"
     ]
    },
    {
     "data": {
      "application/vnd.plotly.v1+json": {
       "config": {
        "plotlyServerURL": "https://plot.ly"
       },
       "data": [
        {
         "hovertemplate": "Open=%{x}<br>Close=%{y}<extra></extra>",
         "legendgroup": "",
         "marker": {
          "color": "#636efa",
          "symbol": "circle"
         },
         "mode": "markers",
         "name": "",
         "orientation": "v",
         "showlegend": false,
         "type": "scatter",
         "x": {
          "bdata": "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",
          "dtype": "f8"
         },
         "xaxis": "x",
         "y": {
          "bdata": "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",
          "dtype": "f8"
         },
         "yaxis": "y"
        },
        {
         "hovertemplate": "<b>OLS trendline</b><br>Close = 0.968721 * Open + 13.6168<br>R<sup>2</sup>=0.970478<br><br>Open=%{x}<br>Close=%{y} <b>(trend)</b><extra></extra>",
         "legendgroup": "",
         "marker": {
          "color": "#636efa",
          "symbol": "circle"
         },
         "mode": "lines",
         "name": "",
         "showlegend": false,
         "type": "scatter",
         "x": {
          "bdata": "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",
          "dtype": "f8"
         },
         "xaxis": "x",
         "y": {
          "bdata": "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",
          "dtype": "f8"
         },
         "yaxis": "y"
        }
       ],
       "layout": {
        "legend": {
         "tracegroupgap": 0
        },
        "template": {
         "data": {
          "bar": [
           {
            "error_x": {
             "color": "#2a3f5f"
            },
            "error_y": {
             "color": "#2a3f5f"
            },
            "marker": {
             "line": {
              "color": "#E5ECF6",
              "width": 0.5
             },
             "pattern": {
              "fillmode": "overlay",
              "size": 10,
              "solidity": 0.2
             }
            },
            "type": "bar"
           }
          ],
          "barpolar": [
           {
            "marker": {
             "line": {
              "color": "#E5ECF6",
              "width": 0.5
             },
             "pattern": {
              "fillmode": "overlay",
              "size": 10,
              "solidity": 0.2
             }
            },
            "type": "barpolar"
           }
          ],
          "carpet": [
           {
            "aaxis": {
             "endlinecolor": "#2a3f5f",
             "gridcolor": "white",
             "linecolor": "white",
             "minorgridcolor": "white",
             "startlinecolor": "#2a3f5f"
            },
            "baxis": {
             "endlinecolor": "#2a3f5f",
             "gridcolor": "white",
             "linecolor": "white",
             "minorgridcolor": "white",
             "startlinecolor": "#2a3f5f"
            },
            "type": "carpet"
           }
          ],
          "choropleth": [
           {
            "colorbar": {
             "outlinewidth": 0,
             "ticks": ""
            },
            "type": "choropleth"
           }
          ],
          "contour": [
           {
            "colorbar": {
             "outlinewidth": 0,
             "ticks": ""
            },
            "colorscale": [
             [
              0,
              "#0d0887"
             ],
             [
              0.1111111111111111,
              "#46039f"
             ],
             [
              0.2222222222222222,
              "#7201a8"
             ],
             [
              0.3333333333333333,
              "#9c179e"
             ],
             [
              0.4444444444444444,
              "#bd3786"
             ],
             [
              0.5555555555555556,
              "#d8576b"
             ],
             [
              0.6666666666666666,
              "#ed7953"
             ],
             [
              0.7777777777777778,
              "#fb9f3a"
             ],
             [
              0.8888888888888888,
              "#fdca26"
             ],
             [
              1,
              "#f0f921"
             ]
            ],
            "type": "contour"
           }
          ],
          "contourcarpet": [
           {
            "colorbar": {
             "outlinewidth": 0,
             "ticks": ""
            },
            "type": "contourcarpet"
           }
          ],
          "heatmap": [
           {
            "colorbar": {
             "outlinewidth": 0,
             "ticks": ""
            },
            "colorscale": [
             [
              0,
              "#0d0887"
             ],
             [
              0.1111111111111111,
              "#46039f"
             ],
             [
              0.2222222222222222,
              "#7201a8"
             ],
             [
              0.3333333333333333,
              "#9c179e"
             ],
             [
              0.4444444444444444,
              "#bd3786"
             ],
             [
              0.5555555555555556,
              "#d8576b"
             ],
             [
              0.6666666666666666,
              "#ed7953"
             ],
             [
              0.7777777777777778,
              "#fb9f3a"
             ],
             [
              0.8888888888888888,
              "#fdca26"
             ],
             [
              1,
              "#f0f921"
             ]
            ],
            "type": "heatmap"
           }
          ],
          "histogram": [
           {
            "marker": {
             "pattern": {
              "fillmode": "overlay",
              "size": 10,
              "solidity": 0.2
             }
            },
            "type": "histogram"
           }
          ],
          "histogram2d": [
           {
            "colorbar": {
             "outlinewidth": 0,
             "ticks": ""
            },
            "colorscale": [
             [
              0,
              "#0d0887"
             ],
             [
              0.1111111111111111,
              "#46039f"
             ],
             [
              0.2222222222222222,
              "#7201a8"
             ],
             [
              0.3333333333333333,
              "#9c179e"
             ],
             [
              0.4444444444444444,
              "#bd3786"
             ],
             [
              0.5555555555555556,
              "#d8576b"
             ],
             [
              0.6666666666666666,
              "#ed7953"
             ],
             [
              0.7777777777777778,
              "#fb9f3a"
             ],
             [
              0.8888888888888888,
              "#fdca26"
             ],
             [
              1,
              "#f0f921"
             ]
            ],
            "type": "histogram2d"
           }
          ],
          "histogram2dcontour": [
           {
            "colorbar": {
             "outlinewidth": 0,
             "ticks": ""
            },
            "colorscale": [
             [
              0,
              "#0d0887"
             ],
             [
              0.1111111111111111,
              "#46039f"
             ],
             [
              0.2222222222222222,
              "#7201a8"
             ],
             [
              0.3333333333333333,
              "#9c179e"
             ],
             [
              0.4444444444444444,
              "#bd3786"
             ],
             [
              0.5555555555555556,
              "#d8576b"
             ],
             [
              0.6666666666666666,
              "#ed7953"
             ],
             [
              0.7777777777777778,
              "#fb9f3a"
             ],
             [
              0.8888888888888888,
              "#fdca26"
             ],
             [
              1,
              "#f0f921"
             ]
            ],
            "type": "histogram2dcontour"
           }
          ],
          "mesh3d": [
           {
            "colorbar": {
             "outlinewidth": 0,
             "ticks": ""
            },
            "type": "mesh3d"
           }
          ],
          "parcoords": [
           {
            "line": {
             "colorbar": {
              "outlinewidth": 0,
              "ticks": ""
             }
            },
            "type": "parcoords"
           }
          ],
          "pie": [
           {
            "automargin": true,
            "type": "pie"
           }
          ],
          "scatter": [
           {
            "fillpattern": {
             "fillmode": "overlay",
             "size": 10,
             "solidity": 0.2
            },
            "type": "scatter"
           }
          ],
          "scatter3d": [
           {
            "line": {
             "colorbar": {
              "outlinewidth": 0,
              "ticks": ""
             }
            },
            "marker": {
             "colorbar": {
              "outlinewidth": 0,
              "ticks": ""
             }
            },
            "type": "scatter3d"
           }
          ],
          "scattercarpet": [
           {
            "marker": {
             "colorbar": {
              "outlinewidth": 0,
              "ticks": ""
             }
            },
            "type": "scattercarpet"
           }
          ],
          "scattergeo": [
           {
            "marker": {
             "colorbar": {
              "outlinewidth": 0,
              "ticks": ""
             }
            },
            "type": "scattergeo"
           }
          ],
          "scattergl": [
           {
            "marker": {
             "colorbar": {
              "outlinewidth": 0,
              "ticks": ""
             }
            },
            "type": "scattergl"
           }
          ],
          "scattermap": [
           {
            "marker": {
             "colorbar": {
              "outlinewidth": 0,
              "ticks": ""
             }
            },
            "type": "scattermap"
           }
          ],
          "scattermapbox": [
           {
            "marker": {
             "colorbar": {
              "outlinewidth": 0,
              "ticks": ""
             }
            },
            "type": "scattermapbox"
           }
          ],
          "scatterpolar": [
           {
            "marker": {
             "colorbar": {
              "outlinewidth": 0,
              "ticks": ""
             }
            },
            "type": "scatterpolar"
           }
          ],
          "scatterpolargl": [
           {
            "marker": {
             "colorbar": {
              "outlinewidth": 0,
              "ticks": ""
             }
            },
            "type": "scatterpolargl"
           }
          ],
          "scatterternary": [
           {
            "marker": {
             "colorbar": {
              "outlinewidth": 0,
              "ticks": ""
             }
            },
            "type": "scatterternary"
           }
          ],
          "surface": [
           {
            "colorbar": {
             "outlinewidth": 0,
             "ticks": ""
            },
            "colorscale": [
             [
              0,
              "#0d0887"
             ],
             [
              0.1111111111111111,
              "#46039f"
             ],
             [
              0.2222222222222222,
              "#7201a8"
             ],
             [
              0.3333333333333333,
              "#9c179e"
             ],
             [
              0.4444444444444444,
              "#bd3786"
             ],
             [
              0.5555555555555556,
              "#d8576b"
             ],
             [
              0.6666666666666666,
              "#ed7953"
             ],
             [
              0.7777777777777778,
              "#fb9f3a"
             ],
             [
              0.8888888888888888,
              "#fdca26"
             ],
             [
              1,
              "#f0f921"
             ]
            ],
            "type": "surface"
           }
          ],
          "table": [
           {
            "cells": {
             "fill": {
              "color": "#EBF0F8"
             },
             "line": {
              "color": "white"
             }
            },
            "header": {
             "fill": {
              "color": "#C8D4E3"
             },
             "line": {
              "color": "white"
             }
            },
            "type": "table"
           }
          ]
         },
         "layout": {
          "annotationdefaults": {
           "arrowcolor": "#2a3f5f",
           "arrowhead": 0,
           "arrowwidth": 1
          },
          "autotypenumbers": "strict",
          "coloraxis": {
           "colorbar": {
            "outlinewidth": 0,
            "ticks": ""
           }
          },
          "colorscale": {
           "diverging": [
            [
             0,
             "#8e0152"
            ],
            [
             0.1,
             "#c51b7d"
            ],
            [
             0.2,
             "#de77ae"
            ],
            [
             0.3,
             "#f1b6da"
            ],
            [
             0.4,
             "#fde0ef"
            ],
            [
             0.5,
             "#f7f7f7"
            ],
            [
             0.6,
             "#e6f5d0"
            ],
            [
             0.7,
             "#b8e186"
            ],
            [
             0.8,
             "#7fbc41"
            ],
            [
             0.9,
             "#4d9221"
            ],
            [
             1,
             "#276419"
            ]
           ],
           "sequential": [
            [
             0,
             "#0d0887"
            ],
            [
             0.1111111111111111,
             "#46039f"
            ],
            [
             0.2222222222222222,
             "#7201a8"
            ],
            [
             0.3333333333333333,
             "#9c179e"
            ],
            [
             0.4444444444444444,
             "#bd3786"
            ],
            [
             0.5555555555555556,
             "#d8576b"
            ],
            [
             0.6666666666666666,
             "#ed7953"
            ],
            [
             0.7777777777777778,
             "#fb9f3a"
            ],
            [
             0.8888888888888888,
             "#fdca26"
            ],
            [
             1,
             "#f0f921"
            ]
           ],
           "sequentialminus": [
            [
             0,
             "#0d0887"
            ],
            [
             0.1111111111111111,
             "#46039f"
            ],
            [
             0.2222222222222222,
             "#7201a8"
            ],
            [
             0.3333333333333333,
             "#9c179e"
            ],
            [
             0.4444444444444444,
             "#bd3786"
            ],
            [
             0.5555555555555556,
             "#d8576b"
            ],
            [
             0.6666666666666666,
             "#ed7953"
            ],
            [
             0.7777777777777778,
             "#fb9f3a"
            ],
            [
             0.8888888888888888,
             "#fdca26"
            ],
            [
             1,
             "#f0f921"
            ]
           ]
          },
          "colorway": [
           "#636efa",
           "#EF553B",
           "#00cc96",
           "#ab63fa",
           "#FFA15A",
           "#19d3f3",
           "#FF6692",
           "#B6E880",
           "#FF97FF",
           "#FECB52"
          ],
          "font": {
           "color": "#2a3f5f"
          },
          "geo": {
           "bgcolor": "white",
           "lakecolor": "white",
           "landcolor": "#E5ECF6",
           "showlakes": true,
           "showland": true,
           "subunitcolor": "white"
          },
          "hoverlabel": {
           "align": "left"
          },
          "hovermode": "closest",
          "mapbox": {
           "style": "light"
          },
          "paper_bgcolor": "white",
          "plot_bgcolor": "#E5ECF6",
          "polar": {
           "angularaxis": {
            "gridcolor": "white",
            "linecolor": "white",
            "ticks": ""
           },
           "bgcolor": "#E5ECF6",
           "radialaxis": {
            "gridcolor": "white",
            "linecolor": "white",
            "ticks": ""
           }
          },
          "scene": {
           "xaxis": {
            "backgroundcolor": "#E5ECF6",
            "gridcolor": "white",
            "gridwidth": 2,
            "linecolor": "white",
            "showbackground": true,
            "ticks": "",
            "zerolinecolor": "white"
           },
           "yaxis": {
            "backgroundcolor": "#E5ECF6",
            "gridcolor": "white",
            "gridwidth": 2,
            "linecolor": "white",
            "showbackground": true,
            "ticks": "",
            "zerolinecolor": "white"
           },
           "zaxis": {
            "backgroundcolor": "#E5ECF6",
            "gridcolor": "white",
            "gridwidth": 2,
            "linecolor": "white",
            "showbackground": true,
            "ticks": "",
            "zerolinecolor": "white"
           }
          },
          "shapedefaults": {
           "line": {
            "color": "#2a3f5f"
           }
          },
          "ternary": {
           "aaxis": {
            "gridcolor": "white",
            "linecolor": "white",
            "ticks": ""
           },
           "baxis": {
            "gridcolor": "white",
            "linecolor": "white",
            "ticks": ""
           },
           "bgcolor": "#E5ECF6",
           "caxis": {
            "gridcolor": "white",
            "linecolor": "white",
            "ticks": ""
           }
          },
          "title": {
           "x": 0.05
          },
          "xaxis": {
           "automargin": true,
           "gridcolor": "white",
           "linecolor": "white",
           "ticks": "",
           "title": {
            "standoff": 15
           },
           "zerolinecolor": "white",
           "zerolinewidth": 2
          },
          "yaxis": {
           "automargin": true,
           "gridcolor": "white",
           "linecolor": "white",
           "ticks": "",
           "title": {
            "standoff": 15
           },
           "zerolinecolor": "white",
           "zerolinewidth": 2
          }
         }
        },
        "title": {
         "text": "Relación de Precios de apertura y cierre de Ferrari con linea de regresión"
        },
        "xaxis": {
         "anchor": "y",
         "domain": [
          0,
          1
         ],
         "title": {
          "text": "Open"
         }
        },
        "yaxis": {
         "anchor": "x",
         "domain": [
          0,
          1
         ],
         "title": {
          "text": "Close"
         }
        }
       }
      }
     },
     "metadata": {},
     "output_type": "display_data"
    }
   ],
   "source": [
    "import matplotlib as mp\n",
    "import yfinance as yf\n",
    "import plotly.express as ply\n",
    "import plotly.graph_objects as go\n",
    "\n",
    "ticker = yf.Ticker(\"RACE\") #ferrari\n",
    "df = ticker.history(period=\"1y\")  #tomamos elultimo año\n",
    "print(df)\n",
    "    \n",
    "currency = ticker.info.get('currency', 'USD')  # Obtener la moneda\n",
    "\n",
    "\n",
    "fig= ply.scatter(df, x=\"Open\", y=\"Close\", trendline=\"ols\",title =\"Relación de Precios de apertura y cierre de Ferrari con linea de regresión\")\n",
    "fig.show()"
   ]
  }
 ],
 "metadata": {
  "kernelspec": {
   "display_name": "usr",
   "language": "python",
   "name": "python3"
  },
  "language_info": {
   "codemirror_mode": {
    "name": "ipython",
    "version": 3
   },
   "file_extension": ".py",
   "mimetype": "text/x-python",
   "name": "python",
   "nbconvert_exporter": "python",
   "pygments_lexer": "ipython3",
   "version": "3.10.12"
  }
 },
 "nbformat": 4,
 "nbformat_minor": 2
}
